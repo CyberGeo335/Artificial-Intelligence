{
 "cells": [
  {
   "cell_type": "markdown",
   "source": [
    "=====================================\n",
    "\n",
    "Задача 1.2 :\n",
    "Выведите на печать и определите тип переменной.\n",
    "\n",
    "x =  3 + 5.2*7\n",
    "y = None\n",
    "z = 'a', 5, 12.345, (2, 'b')\n",
    "df = [['Антонова Антонина', 34 , 'ж'], ['Борисов Борис', 26 , 'м']]\n",
    "A = {1, 'title', 2, 'content'}\n",
    "print(x, \"|\", type(x),\"\\n\" , y, \"|\", type(y),\"\\n\", z, \"|\", type(z),\"\\n\", df, \"|\", type(df),\"\\n\", A, \"|\", type(A),\"\\n\")\n",
    "====================================="
   ],
   "metadata": {
    "collapsed": false
   }
  },
  {
   "cell_type": "code",
   "execution_count": 53,
   "outputs": [
    {
     "name": "stdout",
     "output_type": "stream",
     "text": [
      "39.4 | <class 'float'> \n",
      " None | <class 'NoneType'> \n",
      " ('a', 5, 12.345, (2, 'b')) | <class 'tuple'> \n",
      " [['Антонова Антонина', 34, 'ж'], ['Борисов Борис', 26, 'м']] | <class 'list'> \n",
      " {1, 'content', 2, 'title'} | <class 'set'> \n",
      "\n"
     ]
    }
   ],
   "source": [
    "x =  3 + 5.2*7\n",
    "y = None\n",
    "z = 'a', 5, 12.345, (2, 'b')\n",
    "df = [['Антонова Антонина', 34 , 'ж'], ['Борисов Борис', 26 , 'м']]\n",
    "A = {1, 'title', 2, 'content'}\n",
    "print(x, \"|\", type(x),\"\\n\" , y, \"|\", type(y),\"\\n\", z, \"|\", type(z),\"\\n\", df, \"|\", type(df),\"\\n\", A, \"|\", type(A),\"\\n\")\n",
    "#print(df[0][0])"
   ],
   "metadata": {
    "collapsed": false
   }
  },
  {
   "cell_type": "markdown",
   "source": [
    "=====================================\n",
    "Задача 1.3 :\n",
    "x = 5 >= 2\n",
    "A = {1, 3, 7, 8}\n",
    "B = {2, 4, 5, 10, 'apple'}\n",
    "C = A & B\n",
    "df = 'Антонова Антонина', 34, 'ж'\n",
    "z = 'type'\n",
    "D = [1, 'title', 2, 'content']\n",
    "====================================="
   ],
   "metadata": {
    "collapsed": false
   }
  },
  {
   "cell_type": "code",
   "execution_count": 54,
   "outputs": [
    {
     "name": "stdout",
     "output_type": "stream",
     "text": [
      "True || <class 'bool'> \n",
      " {8, 1, 3, 7} || <class 'set'> \n",
      " {2, 4, 5, 10, 'apple'} || <class 'set'> \n",
      " set() || <class 'set'> \n",
      " ('Антонова Антонина', 34, 'ж') || <class 'tuple'> \n",
      " type || <class 'str'> \n",
      " [1, 'title', 2, 'content'] || <class 'list'>\n"
     ]
    }
   ],
   "source": [
    "x = 5 >= 2\n",
    "A = {1, 3, 7, 8}\n",
    "B = {2, 4, 5, 10, 'apple'}\n",
    "C = A & B\n",
    "df = 'Антонова Антонина', 34, 'ж'\n",
    "z = 'type'\n",
    "D = [1, 'title', 2, 'content']\n",
    "print(\n",
    "    x, \"||\", type(x), \"\\n\",\n",
    "    A, \"||\", type(A), \"\\n\",\n",
    "    B, \"||\", type(B), \"\\n\",\n",
    "    C, \"||\", type(C), \"\\n\",\n",
    "    df, \"||\", type(df), \"\\n\",\n",
    "    z, \"||\", type(z), \"\\n\",\n",
    "    D, \"||\", type(D))"
   ],
   "metadata": {
    "collapsed": false
   }
  },
  {
   "cell_type": "markdown",
   "source": [
    "=====================================\n",
    "Задача 2.2 :\n",
    "Вывести на экран является ли переменная х положительной,\n",
    "отрицательной или равна нулю.\n",
    "\n",
    "x = 125\n",
    "if x < 0:\n",
    "    print(\"x отрицательный\")\n",
    "elif x == 0:\n",
    "    print(\"x равен нулю\")\n",
    "else:\n",
    "    print(\"x положительный\")\n",
    "====================================="
   ],
   "metadata": {
    "collapsed": false
   }
  },
  {
   "cell_type": "code",
   "execution_count": 55,
   "outputs": [
    {
     "name": "stdout",
     "output_type": "stream",
     "text": [
      "x положительный\n"
     ]
    }
   ],
   "source": [
    "x = 125\n",
    "if x < 0:\n",
    "    print(\"x отрицательный\")\n",
    "elif x == 0:\n",
    "    print(\"x равен нулю\")\n",
    "else:\n",
    "    print(\"x положительный\")"
   ],
   "metadata": {
    "collapsed": false
   }
  },
  {
   "cell_type": "markdown",
   "source": [
    "=====================================\n",
    "Задача 2.3 :\n",
    "Напишите код. Задается х, напечатать какому из интервалов\n",
    "принадлежит: (-infinity, -5), [-5, 5] или от (5, +infinity)\n",
    "\n",
    "x = 125\n",
    "if x < -5:\n",
    "    print(\"x пренадлежит интервалу: (-infinity, -5)\")\n",
    "elif -5 <= x <= 5:\n",
    "    print(\"x пренадлежит интервалу: [-5, 5]\")\n",
    "else:\n",
    "    print(\"x пренадлежит интервалу: (5, +infinity\")\n",
    "====================================="
   ],
   "metadata": {
    "collapsed": false
   }
  },
  {
   "cell_type": "code",
   "execution_count": 56,
   "outputs": [
    {
     "name": "stdout",
     "output_type": "stream",
     "text": [
      "x пренадлежит интервалу: [-5, 5]\n"
     ]
    }
   ],
   "source": [
    "x = 5\n",
    "if x < -5:\n",
    "    print(\"x пренадлежит интервалу: (-infinity, -5)\")\n",
    "elif -5 <= x <= 5:\n",
    "    print(\"x пренадлежит интервалу: [-5, 5]\")\n",
    "else:\n",
    "    print(\"x пренадлежит интервалу: (5, +infinity)\")"
   ],
   "metadata": {
    "collapsed": false
   }
  },
  {
   "cell_type": "markdown",
   "source": [
    "=====================================\n",
    "\n",
    "Задача 3.2.1 :\n",
    "Вывести все числа от 1 до 10 с шагом 3.\n",
    "\n",
    "x = 1\n",
    "while x <= 10:\n",
    "    print(x)\n",
    "    x += 3\n",
    "\n",
    "====================================="
   ],
   "metadata": {
    "collapsed": false
   }
  },
  {
   "cell_type": "code",
   "execution_count": 57,
   "outputs": [
    {
     "name": "stdout",
     "output_type": "stream",
     "text": [
      "1\n",
      "4\n",
      "7\n",
      "10\n"
     ]
    }
   ],
   "source": [
    "x = 1\n",
    "while x <= 10:\n",
    "    print(x)\n",
    "    x += 3"
   ],
   "metadata": {
    "collapsed": false
   }
  },
  {
   "cell_type": "markdown",
   "source": [
    "=====================================\n",
    "\n",
    "Задача 3.3.1 :\n",
    "Выведите числа из примера на while (3.2.1) в обратном порядке.\n",
    "\n",
    "====================================="
   ],
   "metadata": {
    "collapsed": false
   }
  },
  {
   "cell_type": "code",
   "execution_count": 58,
   "outputs": [
    {
     "name": "stdout",
     "output_type": "stream",
     "text": [
      "10\n",
      "7\n",
      "4\n",
      "1\n"
     ]
    }
   ],
   "source": [
    "x = 10\n",
    "while x > 0:\n",
    "    print(x)\n",
    "    x -= 3"
   ],
   "metadata": {
    "collapsed": false
   }
  },
  {
   "cell_type": "markdown",
   "source": [
    "=====================================\n",
    "Задача 3.2.2 :\n",
    "Задан список. Напечатать все элементы списка.\n",
    "\n",
    "models = ['KNN', 'decision tree', 'linear model']\n",
    "for model in models:\n",
    "    print(model)\n",
    "====================================="
   ],
   "metadata": {
    "collapsed": false
   }
  },
  {
   "cell_type": "code",
   "execution_count": 59,
   "outputs": [
    {
     "name": "stdout",
     "output_type": "stream",
     "text": [
      "KNN\n",
      "decision tree\n",
      "linear model\n"
     ]
    }
   ],
   "source": [
    "models = ['KNN', 'decision tree', 'linear model']\n",
    "for model in models:\n",
    "    print(model)"
   ],
   "metadata": {
    "collapsed": false
   }
  },
  {
   "cell_type": "markdown",
   "source": [],
   "metadata": {
    "collapsed": false
   }
  },
  {
   "cell_type": "markdown",
   "source": [
    "=====================================\n",
    "Задача 3.3.2 :\n",
    "При решении задач машинного обучения часто в качестве объектов\n",
    "исследования выступает человек. Создайте список значимых\n",
    "характеристик (признаков), идентифицирующих человека. Выведите\n",
    "список на экран.\n",
    "====================================="
   ],
   "metadata": {
    "collapsed": false
   }
  },
  {
   "cell_type": "code",
   "execution_count": 60,
   "outputs": [
    {
     "name": "stdout",
     "output_type": "stream",
     "text": [
      "сознание\n",
      "бытие\n",
      "xnj-nj\n"
     ]
    }
   ],
   "source": [
    "ImOnlyHuman = ['smth', 'smth', 'smth']\n",
    "for iterator in ImOnlyHuman:\n",
    "    print(iterator)"
   ],
   "metadata": {
    "collapsed": false
   }
  },
  {
   "cell_type": "markdown",
   "source": [
    "=====================================\n",
    "Задача 3.2.3 :\n",
    "\n",
    "Создать список от 1 до 99 с шагом 7.\n",
    "\n",
    "list_int = range(1, 100, 7)\n",
    "print(list(list_int))\n",
    "\n",
    "====================================="
   ],
   "metadata": {
    "collapsed": false
   }
  },
  {
   "cell_type": "code",
   "execution_count": 61,
   "outputs": [
    {
     "name": "stdout",
     "output_type": "stream",
     "text": [
      "[1, 8, 15, 22, 29, 36, 43, 50, 57, 64, 71, 78, 85, 92, 99]\n"
     ]
    }
   ],
   "source": [
    "list_int = range(1, 100, 7)\n",
    "print(list(list_int))"
   ],
   "metadata": {
    "collapsed": false
   }
  },
  {
   "cell_type": "markdown",
   "source": [
    "=====================================\n",
    "Задача 3.3.3 :\n",
    "\n",
    "Создать список чисел от 2 до 15 с шагом 1.\n",
    "\n",
    "list_int = range(2, 15, 1)\n",
    "print(list(list_int))\n",
    "\n",
    "====================================="
   ],
   "metadata": {
    "collapsed": false
   }
  },
  {
   "cell_type": "code",
   "execution_count": 62,
   "outputs": [
    {
     "name": "stdout",
     "output_type": "stream",
     "text": [
      "[2, 3, 4, 5, 6, 7, 8, 9, 10, 11, 12, 13, 14]\n"
     ]
    }
   ],
   "source": [
    "list_int = range(2, 15, 1)\n",
    "print(list(list_int))"
   ],
   "metadata": {
    "collapsed": false
   }
  },
  {
   "cell_type": "markdown",
   "source": [
    "=====================================\n",
    "Задача 3.2.4 :\n",
    "\n",
    "Вывести на экран числа от 1 до 105 с шагом 25, используя функцию\n",
    "range()\n",
    "\n",
    "for i in range (5, 106, 25)\n",
    "    print(i)\n",
    "\n",
    "====================================="
   ],
   "metadata": {
    "collapsed": false
   }
  },
  {
   "cell_type": "code",
   "execution_count": 63,
   "outputs": [
    {
     "name": "stdout",
     "output_type": "stream",
     "text": [
      "5\n",
      "30\n",
      "55\n",
      "80\n",
      "105\n"
     ]
    }
   ],
   "source": [
    "for i in range (5, 106, 25):\n",
    "    print(i)"
   ],
   "metadata": {
    "collapsed": false
   }
  },
  {
   "cell_type": "markdown",
   "source": [
    "=====================================\n",
    "Задача 3.3.4 :\n",
    "\n",
    "Выведите числа из примера на for c функцией range() (3.2.4) в\n",
    "обратном порядке.\n",
    "\n",
    "for i in range (5, 106, 25)\n",
    "    print(i)\n",
    "\n",
    "====================================="
   ],
   "metadata": {
    "collapsed": false
   }
  },
  {
   "cell_type": "code",
   "execution_count": 64,
   "outputs": [
    {
     "name": "stdout",
     "output_type": "stream",
     "text": [
      "105\n",
      "80\n",
      "55\n",
      "30\n",
      "5\n"
     ]
    }
   ],
   "source": [
    "for i in range (105, 0, -25):\n",
    "    print(i)"
   ],
   "metadata": {
    "collapsed": false
   }
  },
  {
   "cell_type": "markdown",
   "source": [
    "=====================================\n",
    "Задача 3.2.5 :\n",
    "\n",
    "Срез. Необходимо получить каждый k-й элемент массива a, начиная с\n",
    "элемента с индексом i (включительно) и заканчивая элементом с\n",
    "индексом j (не включительно), c шагом 2. Или переставить все\n",
    "элементы в обратном порядке.\n",
    "\n",
    "a = [1, 2, 3, 4, 5, 6, 7, 8, 9]\n",
    "b = a[1:7:2]\n",
    "c = a[a::-1]\n",
    "print(b)\n",
    "print(c)\n",
    "====================================="
   ],
   "metadata": {
    "collapsed": false
   }
  },
  {
   "cell_type": "code",
   "execution_count": 65,
   "outputs": [
    {
     "name": "stdout",
     "output_type": "stream",
     "text": [
      "[2, 4, 6]\n",
      "[9, 8, 7, 6, 5, 4, 3, 2, 1]\n"
     ]
    }
   ],
   "source": [
    "a = [1, 2, 3, 4, 5, 6, 7, 8, 9]\n",
    "b = a[1:7:2]\n",
    "c = a[::-1]\n",
    "print(b)\n",
    "print(c)"
   ],
   "metadata": {
    "collapsed": false
   }
  },
  {
   "cell_type": "markdown",
   "source": [
    "=====================================\n",
    "Задача 3.3.5 :\n",
    "\n",
    "Срез. Напишите код, который все элементы массива x с четными\n",
    "индексами переставит в обратном порядке. Т.е. если x = [0, 1, 2, 3, 4,\n",
    "5, 6, 7, 8, 9], то код должен сформировать [8, 1, 6, 3, 4, 5, 2, 7, 0, 9].\n",
    "\n",
    "====================================="
   ],
   "metadata": {
    "collapsed": false
   }
  },
  {
   "cell_type": "code",
   "execution_count": 66,
   "outputs": [
    {
     "name": "stdout",
     "output_type": "stream",
     "text": [
      "[8, 1, 6, 3, 4, 5, 2, 7, 0, 9]\n"
     ]
    }
   ],
   "source": [
    "x = [0, 1, 2, 3, 4, 5, 6, 7, 8, 9]\n",
    "# x[::2] делится на два\n",
    "x[::2] = x[8::-2]\n",
    "print(x)"
   ],
   "metadata": {
    "collapsed": false
   }
  },
  {
   "cell_type": "markdown",
   "source": [
    "=====================================\n",
    "Задача 4.2.1 :\n",
    "\n",
    "Рассчитать синус от е радиан и вывести результат на экран\n",
    "\n",
    "import math as m\n",
    "print(m.sin(m.e))\n",
    "\n",
    "====================================="
   ],
   "metadata": {
    "collapsed": false
   }
  },
  {
   "cell_type": "code",
   "execution_count": 67,
   "outputs": [
    {
     "name": "stdout",
     "output_type": "stream",
     "text": [
      "2.718281828459045\n",
      "0.41078129050290885\n"
     ]
    }
   ],
   "source": [
    "import math as m\n",
    "print(m.e)\n",
    "print(m.sin(m.e))"
   ],
   "metadata": {
    "collapsed": false
   }
  },
  {
   "cell_type": "markdown",
   "source": [
    "=====================================\n",
    "Задача 4.2.2 :\n",
    "\n",
    "Для функции sin(xe^cos(𝑥)) на интервале [0;10] с шагом 0,05 построить\n",
    "график функции, закрасить площадь под ним и вычислить значение\n",
    "этой площади.\n",
    "Для вычисления площади воспользуйте функции trapz(), вычисляющей\n",
    "интеграл по правилу трапеции. Для ее корректной работы необходимо\n",
    "подключить следующие библиотеки:\n",
    "from scipy.integrate import simps\n",
    "from numpy import trapz\n",
    "\n",
    "====================================="
   ],
   "metadata": {
    "collapsed": false
   }
  },
  {
   "cell_type": "code",
   "execution_count": 68,
   "outputs": [
    {
     "name": "stdout",
     "output_type": "stream",
     "text": [
      "73.50792907748662\n"
     ]
    },
    {
     "data": {
      "text/plain": "<Figure size 640x480 with 1 Axes>",
      "image/png": "[encoded data removed]"
     },
     "metadata": {},
     "output_type": "display_data"
    }
   ],
   "source": [
    "import numpy as np\n",
    "import matplotlib.pyplot as plt\n",
    "from numpy import trapz\n",
    "x = np.arange(0.0, 10, 0.1) # рисуем график от 0 до 10 с интервалом\n",
    "y = np.abs(np.sin(x*np.exp(np.cos(x))))\n",
    "plt.grid()\n",
    "plt.plot(x, y, c = \"r\")\n",
    "plt.fill_between(x, y)\n",
    "area = trapz(y)\n",
    "print(area)\n"
   ],
   "metadata": {
    "collapsed": false
   }
  },
  {
   "cell_type": "markdown",
   "source": [
    "=====================================\n",
    "Задача 4.3.2 :\n",
    "\n",
    "Создать массив из 10 значений\n",
    "функции (𝑥, например, изменяется от 1 до 10). Выделить срез первой\n",
    "половины массива и построить графики для основного массива –\n",
    "линейный и для среза – точечный\n",
    "\n",
    "=====================================\n"
   ],
   "metadata": {
    "collapsed": false
   }
  },
  {
   "cell_type": "code",
   "execution_count": 69,
   "outputs": [
    {
     "name": "stdout",
     "output_type": "stream",
     "text": [
      "main arr: [  5.64778747  10.65089187   4.56221067   4.15081383   4.01939032\n",
      "   6.08128061   8.16312558 136.86574509   7.92412924   7.33052719]\n",
      "pointer:  [ 5.64778747 10.65089187  4.56221067  4.15081383  4.01939032]\n"
     ]
    },
    {
     "data": {
      "text/plain": "<matplotlib.collections.PathCollection at 0x13ea3d065c0>"
     },
     "execution_count": 69,
     "metadata": {},
     "output_type": "execute_result"
    },
    {
     "data": {
      "text/plain": "<Figure size 640x480 with 1 Axes>",
      "image/png": "[encoded data removed]"
     },
     "metadata": {},
     "output_type": "display_data"
    }
   ],
   "source": [
    "import numpy as np\n",
    "import matplotlib.pyplot as plt\n",
    "\n",
    "x = np.arange(1, 11, 1) # рисуем график от 1 до 10 с интервалом\n",
    "arr = (np.sqrt(1 + np.exp(np.sqrt(x)) + (np.cos(x))**2) / abs(1 - (np.sin(x))**3)) + np.log(abs(2*x))\n",
    "pointer = arr[:5]\n",
    "\n",
    "print(\"main arr:\", arr)\n",
    "print(\"pointer: \", pointer)\n",
    "\n",
    "#plt.grid()\n",
    "#plt.plot(x, arr, c = \"r\") # основной массив – линейный\n",
    "#plt.fill_between(x, arr)\n",
    "\n",
    "#plt.grid()\n",
    "#plt.scatter(x[:5], pointer)\n",
    "\n",
    "\n",
    "plt.plot(x, arr, c = \"r\")\n",
    "plt.scatter(x[:5], pointer)"
   ],
   "metadata": {
    "collapsed": false
   }
  },
  {
   "cell_type": "markdown",
   "source": [
    "=====================================\n",
    "Задача 4.2.3 :\n",
    "\n",
    "Дано некоторое распределение оценок в группе за экзамен. Нарисовать\n",
    "круговую и точечную диаграммы распределения.\n",
    "\n",
    "from matplotlib import pyplot as plt\n",
    "import numpy as np\n",
    "\n",
    "marks = ['Неуд', 'Удовл', 'Хор', 'Отл']\n",
    "\n",
    "data = [3, 7, 8, 4]\n",
    "\n",
    "fig = plt.pie(data, labels = marks)\n",
    "plt.pie(data, labels = marks)\n",
    "plt.show()\n",
    "plt.grid()\n",
    "plt.grid()\n",
    "plt.scatter(marks, data)\n",
    "\n",
    "=====================================\n"
   ],
   "metadata": {
    "collapsed": false
   }
  },
  {
   "cell_type": "code",
   "execution_count": 70,
   "outputs": [
    {
     "data": {
      "text/plain": "<Figure size 640x480 with 1 Axes>",
      "image/png": "[encoded data removed]"
     },
     "metadata": {},
     "output_type": "display_data"
    },
    {
     "data": {
      "text/plain": "<matplotlib.collections.PathCollection at 0x13ea3de9360>"
     },
     "execution_count": 70,
     "metadata": {},
     "output_type": "execute_result"
    },
    {
     "data": {
      "text/plain": "<Figure size 640x480 with 1 Axes>",
      "image/png": "[encoded data removed]"
     },
     "metadata": {},
     "output_type": "display_data"
    }
   ],
   "source": [
    "from matplotlib import pyplot as plt\n",
    "\n",
    "marks = ['Неуд', 'Удовл', 'Хор', 'Отл']\n",
    "\n",
    "data = [3, 7, 8, 4]\n",
    "\n",
    "fig = plt.pie(data, labels = marks)\n",
    "plt.pie(data, labels = marks)\n",
    "plt.show()\n",
    "plt.grid()\n",
    "plt.scatter(marks, data)"
   ],
   "metadata": {
    "collapsed": false
   }
  },
  {
   "cell_type": "markdown",
   "source": [
    "4.3.1 Задание\n",
    "\n",
    "Задайте массив случайных значений из интервала(0; 1).\n",
    "Рассчитайте средние и медианные значения для массива, сравните\n",
    "результаты, какие выводы можно сделать о значениях?\n",
    "Постройте точечную диаграмму рассения полученного ряда."
   ],
   "metadata": {
    "collapsed": false
   }
  },
  {
   "cell_type": "code",
   "execution_count": 71,
   "outputs": [
    {
     "name": "stdout",
     "output_type": "stream",
     "text": [
      "Среднее значение:  0.20348277101487816\n",
      "Медианное значение:  0.20348277101487816\n"
     ]
    },
    {
     "data": {
      "text/plain": "<matplotlib.collections.PathCollection at 0x13ea2b27430>"
     },
     "execution_count": 71,
     "metadata": {},
     "output_type": "execute_result"
    },
    {
     "data": {
      "text/plain": "<Figure size 640x480 with 1 Axes>",
      "image/png": "[encoded data removed]"
     },
     "metadata": {},
     "output_type": "display_data"
    }
   ],
   "source": [
    "import random\n",
    "from matplotlib import pyplot as plt\n",
    "from statistics import mean, median\n",
    "\n",
    "\n",
    "num = 1\n",
    "arr=[random.random() for i in range(num + 1)]\n",
    "\n",
    "print(\"Среднее значение: \",mean(arr))\n",
    "print(\"Медианное значение: \",median(arr))\n",
    "plt.scatter(arr,arr)"
   ],
   "metadata": {
    "collapsed": false
   }
  },
  {
   "cell_type": "markdown",
   "source": [
    "4.3.3 Задание\n",
    "\n",
    "Дана функция |cos(𝑥𝑒(cos(𝑥)+ln(𝑥+1)))| Построить график на\n",
    "интервале (0,10) с шагом 1 с заливкой площади и найти эту площадь\n",
    "под ним. Для вычисления площади воспользуйте функции trapz(),\n",
    "вычисляющей интеграл по правилу трапеции.\n",
    "Для ее корректной работы необходимо подключить следующие\n",
    "библиотеки:\n",
    "from scipy.integrate import simps\n",
    "from numpy import trapz"
   ],
   "metadata": {
    "collapsed": false
   }
  },
  {
   "cell_type": "code",
   "execution_count": 72,
   "outputs": [
    {
     "name": "stdout",
     "output_type": "stream",
     "text": [
      "6.260345875494747\n"
     ]
    },
    {
     "data": {
      "text/plain": "<Figure size 640x480 with 1 Axes>",
      "image/png": "[encoded data removed]"
     },
     "metadata": {},
     "output_type": "display_data"
    }
   ],
   "source": [
    "import numpy as np\n",
    "import matplotlib.pyplot as plt\n",
    "from scipy.integrate import simps\n",
    "from numpy import trapz\n",
    "\n",
    "x = np.arange(0.0, 10, 1)\n",
    "y = abs(np.cos(x * np.exp(np.cos(x) + np.log(x+1))))\n",
    "plt.grid()\n",
    "plt.plot(x, y, c =\"r\")\n",
    "plt.fill_between(x, y)\n",
    "\n",
    "area = trapz(y)\n",
    "print(area)"
   ],
   "metadata": {
    "collapsed": false
   }
  },
  {
   "cell_type": "markdown",
   "source": [],
   "metadata": {
    "collapsed": false
   }
  },
  {
   "cell_type": "markdown",
   "source": [
    "4.3.4 Задание\n",
    "\n",
    "Откройте статистические данные по стоимости акций Apple,\n",
    "Microsoft, Google за 12 месяцев 2021 г. Постройте 3 графика на\n",
    "плоскости и оцените их динамику. Подумайте, как можно улучшить\n",
    "читаемость результатов."
   ],
   "metadata": {
    "collapsed": false
   }
  },
  {
   "cell_type": "code",
   "execution_count": 73,
   "outputs": [
    {
     "name": "stdout",
     "output_type": "stream",
     "text": [
      "Акции Гугла - красный\n",
      "Акции Майкрософт - зеленый\n",
      "Акции Apple - черный\n"
     ]
    },
    {
     "data": {
      "text/plain": "[<matplotlib.lines.Line2D at 0x13ea2bd3010>]"
     },
     "execution_count": 73,
     "metadata": {},
     "output_type": "execute_result"
    },
    {
     "data": {
      "text/plain": "<Figure size 640x480 with 1 Axes>",
      "image/png": "[encoded data removed]"
     },
     "metadata": {},
     "output_type": "display_data"
    }
   ],
   "source": [
    "from scipy.integrate import simps\n",
    "import matplotlib.pyplot as plt\n",
    "\n",
    "\n",
    "x = np.arange(1,13,1)\n",
    "\n",
    "GooglePrice2021 =[87.88, 92.68, 102.83,104.90, 120.14,121.10, 124.85, 135.48, 145.65,133.55, 148.16,144.21]\n",
    "MicrosoftPrice_2021 = [222.53, 235.06,235.90,238.47,253.40,251.23, 269.61, 286.36,302.87,282.12, 331.36,335.13]\n",
    "ApplePrice2021 = [133.52,133.75,123.75,123.66,132.04,125.08,136.60,146.36,152.83,141.90,148.99, 167.48]\n",
    "\n",
    "print(\"Акции Гугла - красный\")\n",
    "print(\"Акции Майкрософт - зеленый\")\n",
    "print(\"Акции Apple - черный\")\n",
    "plt.grid()\n",
    "plt.plot(x,GooglePrice2021, c = \"b\")\n",
    "plt.plot(x,MicrosoftPrice_2021, c = \"r\")\n",
    "plt.plot(x,ApplePrice2021, c = \"g\")"
   ],
   "metadata": {
    "collapsed": false
   }
  },
  {
   "cell_type": "markdown",
   "source": [
    "4.3.5 Задание\n",
    "\n",
    "Создайте простейший калькулятор, включающий основные действия\n",
    "для двух переменных ′ + ′, ′ − ′, ′ ∙ ′, ′ ÷ ′, а также вычисление\n",
    "следующих функций: 𝑒𝑥+𝑦, sin(𝑥 + 𝑦) , cos(𝑥 + 𝑦) , 𝑥^𝑦."
   ],
   "metadata": {
    "collapsed": false
   }
  },
  {
   "cell_type": "code",
   "execution_count": 74,
   "outputs": [
    {
     "name": "stdout",
     "output_type": "stream",
     "text": [
      "2.0\n"
     ]
    }
   ],
   "source": [
    "import numpy as np\n",
    "\n",
    "s = input(\"Знак (+,-,*,/, e^(x+y), sin(x+y), cos(x+y), x^y: \")\n",
    "if s in ('+', '-', '*', '/', 'e^(x+y)', 'sin(x+y)', 'cos(x+y)','x^y'):\n",
    "    x = float(input(\"x=\"))\n",
    "    y = float(input(\"y=\"))\n",
    "    if s == '+':\n",
    "        print((x+y))\n",
    "    elif s == '-':\n",
    "        print((x-y))\n",
    "    elif s == '*':\n",
    "        print((x*y))\n",
    "    elif s == '/':\n",
    "        if y != 0:\n",
    "            print((x/y))\n",
    "        else:\n",
    "            print(\"Деление на ноль нельзя!\")\n",
    "    elif s=='e^(x+y)':\n",
    "        print((np.exp(x+y)))\n",
    "    elif s=='cos(x+y)':\n",
    "        print((np.cos(x+y)))\n",
    "    elif s=='x^y':\n",
    "        print((x ** y))\n",
    "    elif s =='sin(x+y)':\n",
    "        print((np.sin(x+y)))\n",
    "else:\n",
    "    print(\"Неверный знак операции или функции!\")"
   ],
   "metadata": {
    "collapsed": false
   }
  }
 ],
 "metadata": {
  "kernelspec": {
   "display_name": "Python 3",
   "language": "python",
   "name": "python3"
  },
  "language_info": {
   "codemirror_mode": {
    "name": "ipython",
    "version": 2
   },
   "file_extension": ".py",
   "mimetype": "text/x-python",
   "name": "python",
   "nbconvert_exporter": "python",
   "pygments_lexer": "ipython2",
   "version": "2.7.6"
  }
 },
 "nbformat": 4,
 "nbformat_minor": 0
}
